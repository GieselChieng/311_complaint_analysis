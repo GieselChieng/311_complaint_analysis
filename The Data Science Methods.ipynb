{
 "cells": [
  {
   "cell_type": "markdown",
   "metadata": {},
   "source": [
    "<br><br><h1 style='font-family:Trebuchet MS; color:#34495E'> 311 Complaints Analysis (HPD) </h1><center>\n",
    "\n",
    "<table style='font-family:Trebuchet MS'>\n",
    "<col width = '550'>\n",
    "<col width = '450'>\n",
    "<tr>\n",
    "<td><img src=\"https://www1.nyc.gov/assets/hpd/images/content/pages/what-to-expect-sm.png\" /></td>\n",
    "<td>\n",
    "The people of New Yorker use the 311 system to report complaints about the non-emergency problems to local authorities. Various agencies in New York are assigned these problems. The <b>Department of Housing Preservation and Development</b> of New York City is the agency that processes 311 complaints that are related to housing and buildings.<br>\n",
    "<br>    \n",
    "In the last few years, the number of 311 complaints coming to the Department of Housing Preservation and Development has increased significantly. Although these complaints are not necessarily urgent, the large volume of complaints and the sudden increase is impacting the overall efficiency of operations of the agency.\n",
    "\n",
    "</td>\n",
    "</tr>\n",
    "</table>"
   ]
  },
  {
   "cell_type": "markdown",
   "metadata": {},
   "source": [
    "<h1 style='font-family:Trebuchet MS; color:#34495E'>  Problem Statement <a id='1'></a></h1>\n",
    "<p style='font-family:Trebuchet MS'>The agency needs answers to several questions. The answers to those questions must be supported by data and analytics. These are their questions:<ol><p style='font-family:Trebuchet MS'>\n",
    "1. Which type of complaint should the Department of Housing Preservation and Development of New York City focus on first?<br><br>\n",
    "2. Should the Department of Housing Preservation and Development of New York City focus on any particular set of boroughs, ZIP codes, or street (where the complaints are severe) for the specific type of complaints you identified in response to Question 1?<br><br>\n",
    "3. Does the Complaint Type that you identified in response to question 1 have an obvious relationship with any particular characteristic or characteristics of the houses or buildings?<br><br>\n",
    "4. Can a predictive model be built for a future prediction of the number of complaints of the type that you have identified in response to question 1?"
   ]
  },
  {
   "cell_type": "markdown",
   "metadata": {},
   "source": [
    "<h1 style='font-family:Trebuchet MS; color:#34495E'> Table of Contents</h1>\n",
    "\n",
    "<div class=\"alert alert-block alert-info\" style=\"margin-top: 20px; font-family:Trebuchet MS; color:#34495E\">\n",
    "\n",
    "1.  [Problem Statement](#1)<br>\n",
    "2.  [Data Science Methodology](#2)<br>\n",
    "    1.  [From Problem to Approach](#3) <br>\n",
    "    2.  [From Requirementts to Collection](#4) <br>\n",
    "    3.  [From Understanding to Preparation](#5) <br>\n",
    "    4.  [From Modeling to Evaluation](#6) <br>\n",
    "    </div>"
   ]
  },
  {
   "cell_type": "markdown",
   "metadata": {},
   "source": [
    "<h1 style='font-family:Trebuchet MS; color:#34495E'>  Data Science Methodology <a id='2'></a></h1>"
   ]
  },
  {
   "cell_type": "markdown",
   "metadata": {},
   "source": [
    "<p style='font-family:Trebuchet MS'> In the Data Science Methodology, a flowchart that begins with business understanding, as shown:<br> <img src='https://s3-api.us-geo.objectstorage.softlayer.net/cf-courses-data/CognitiveClass/DS0103EN/labs/images/lab1_fig2_datascience_methodology_flowchart.png' width=500>"
   ]
  },
  {
   "cell_type": "markdown",
   "metadata": {},
   "source": [
    "<p style='font-family:Trebuchet MS'> In our capstone project, we will follow the same method:<br>\n",
    "    1. From Problem to Approach <br>\n",
    "    2. From Requirements to Collection <br>\n",
    "    3. From Understanding to Preparation <br>\n",
    "    4. From Modeling to Evaluation"
   ]
  },
  {
   "cell_type": "markdown",
   "metadata": {},
   "source": [
    "<h1 style='font-family:Trebuchet MS; color:#34495E'>  From Problem to Approach <a id='3'></a></h1>"
   ]
  },
  {
   "cell_type": "markdown",
   "metadata": {},
   "source": [
    "<p style='font-family:Trebuchet MS'> There are 4 questions in Problem Statements: <br>\n",
    "    <p style='font-family:Trebuchet MS; color:#34495E'> 1. Which type of complaint should the Department of Housing Preservation and Development of New York City focus on first?<br>\n",
    "    <p style='font-family:Trebuchet MS'>The criteria to choose the complaint type should includes: the total number of cases of each complaint types and also the recent trends of each complaints.<br><br>\n",
    "    <p style='font-family:Trebuchet MS; color:#34495E'> 2. Should the Department of Housing Preservation and Development of New York City focus on any particular set of boroughs, ZIP codes, or street (where the complaints are severe) for the specific type of complaints you identified in response to Question 1?  <br>\n",
    "    <p style='font-family:Trebuchet MS'>Similar to above question, the criteria to choose complaint type should includes the total number of cases of each complaint types but in this case, also to compare the ratio of the complaints to the populations of each boroughs. \n",
    "    <br><br>\n",
    "    <p style='font-family:Trebuchet MS; color:#34495E'> 3. Does the Complaint Type that you identified in response to question 1 have an obvious relationship with any particular characteristic or characteristics of the houses or buildings?<br>\n",
    "    <p style='font-family:Trebuchet MS'>This can be found through the feature selection section.<br><br>\n",
    "    <p style='font-family:Trebuchet MS; color:#34495E'> 4. Can a predictive model be built for a future prediction of the possibility of complaints of the type that you have identified in response to question 1?<br>\n",
    "    <p style='font-family:Trebuchet MS'>For this question, a predictive model (eg. Logistic Regression) will be built after feature selection and be evaluated. In addition to that, a time series prediction (eg. ARIMA/ FbProphet) will be built to predict the number of complaints in the future."
   ]
  },
  {
   "cell_type": "markdown",
   "metadata": {},
   "source": [
    "<h1 style='font-family:Trebuchet MS; color:#34495E'>  From Requirements to Collection <a id='4'></a></h1>"
   ]
  },
  {
   "cell_type": "markdown",
   "metadata": {},
   "source": [
    "<p style='font-family:Trebuchet MS'> All required datasets have been provided and can be found."
   ]
  },
  {
   "cell_type": "markdown",
   "metadata": {},
   "source": [
    "<h1 style='font-family:Trebuchet MS; color:#34495E'>  From Understanding to Preparation <a id='5'></a></h1>"
   ]
  },
  {
   "cell_type": "markdown",
   "metadata": {},
   "source": [
    "<p style='font-family:Trebuchet MS'> Exploratory Data Analysis will be conducted on both data sets to have better understanding & Data Wrangling will be conducted based on understanding from Exploratory Data Analysis before moving forward to answer the Problem Statements Questions."
   ]
  },
  {
   "cell_type": "markdown",
   "metadata": {},
   "source": [
    "<h1 style='font-family:Trebuchet MS; color:#34495E'>  From Modeling to Evaluation <a id='6'></a></h1>"
   ]
  },
  {
   "cell_type": "markdown",
   "metadata": {},
   "source": [
    "<p style='font-family:Trebuchet MS'>  Feature Selection will be conducted to find the most suitable predictors. Predictions will be conducted and evaluated based on their accuracy."
   ]
  },
  {
   "cell_type": "markdown",
   "metadata": {},
   "source": [
    "<p style='font-family:Trebuchet MS'> Lastly, the findings will be presented and the questions will be answered."
   ]
  }
 ],
 "metadata": {
  "kernelspec": {
   "display_name": "myenv",
   "language": "python",
   "name": "myenv"
  },
  "language_info": {
   "codemirror_mode": {
    "name": "ipython",
    "version": 3
   },
   "file_extension": ".py",
   "mimetype": "text/x-python",
   "name": "python",
   "nbconvert_exporter": "python",
   "pygments_lexer": "ipython3",
   "version": "3.8.5"
  }
 },
 "nbformat": 4,
 "nbformat_minor": 4
}
